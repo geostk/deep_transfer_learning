{
 "cells": [
  {
   "cell_type": "markdown",
   "metadata": {},
   "source": [
    "imports"
   ]
  },
  {
   "cell_type": "code",
   "execution_count": 4,
   "metadata": {
    "collapsed": false
   },
   "outputs": [],
   "source": [
    "import csv\n",
    "import numpy as np\n",
    "import sklearn as sk\n",
    "import matplotlib.pylab as plt\n",
    "%matplotlib inline\n",
    "import copy as cp\n",
    "import pickle\n",
    "import pandas as pd\n",
    "import os.path\n",
    "import seaborn as sns\n",
    "from progressbar import ProgressBar\n",
    "\n",
    "from __future__ import absolute_import\n",
    "from __future__ import division\n",
    "from __future__ import print_function\n",
    "\n",
    "import os.path\n",
    "import re\n",
    "import sys\n",
    "import tarfile\n",
    "\n",
    "from six.moves import urllib\n",
    "import tensorflow as tf\n",
    "\n",
    "from sklearn.cluster import KMeans\n",
    "from sklearn.manifold import TSNE\n",
    "from scipy.spatial.distance import pdist, squareform"
   ]
  },
  {
   "cell_type": "markdown",
   "metadata": {},
   "source": [
    "Tensorflow things"
   ]
  },
  {
   "cell_type": "code",
   "execution_count": 5,
   "metadata": {
    "collapsed": true
   },
   "outputs": [],
   "source": [
    "FLAGS = tf.app.flags.FLAGS\n",
    "\n",
    "tf.app.flags.DEFINE_string(\n",
    "    'model_dir', '/tmp/imagenet',\n",
    "    \"\"\"Path to classify_image_graph_def.pb, \"\"\"\n",
    "    \"\"\"imagenet_synset_to_human_label_map.txt, and \"\"\"\n",
    "    \"\"\"imagenet_2012_challenge_label_map_proto.pbtxt.\"\"\")\n",
    "tf.app.flags.DEFINE_string('image_file', '',\n",
    "                           \"\"\"Absolute path to image file.\"\"\")\n",
    "tf.app.flags.DEFINE_integer('num_top_predictions', 5,\n",
    "                            \"\"\"Display this many predictions.\"\"\")\n",
    "\n",
    "# pylint: disable=line-too-long\n",
    "DATA_URL = 'http://download.tensorflow.org/models/image/imagenet/inception-2015-12-05.tgz'\n",
    "# pylint: enable=line-too-long\n",
    "\n",
    "class NodeLookup(object):\n",
    "  \"\"\"Converts integer node ID's to human readable labels.\"\"\"\n",
    "\n",
    "  def __init__(self,\n",
    "               label_lookup_path=None,\n",
    "               uid_lookup_path=None):\n",
    "    if not label_lookup_path:\n",
    "      label_lookup_path = os.path.join(\n",
    "          FLAGS.model_dir, 'imagenet_2012_challenge_label_map_proto.pbtxt')\n",
    "    if not uid_lookup_path:\n",
    "      uid_lookup_path = os.path.join(\n",
    "          FLAGS.model_dir, 'imagenet_synset_to_human_label_map.txt')\n",
    "    self.node_lookup = self.load(label_lookup_path, uid_lookup_path)\n",
    "\n",
    "  def load(self, label_lookup_path, uid_lookup_path):\n",
    "    \"\"\"Loads a human readable English name for each softmax node.\n",
    "\n",
    "    Args:\n",
    "      label_lookup_path: string UID to integer node ID.\n",
    "      uid_lookup_path: string UID to human-readable string.\n",
    "\n",
    "    Returns:\n",
    "      dict from integer node ID to human-readable string.\n",
    "    \"\"\"\n",
    "    if not tf.gfile.Exists(uid_lookup_path):\n",
    "      tf.logging.fatal('File does not exist %s', uid_lookup_path)\n",
    "    if not tf.gfile.Exists(label_lookup_path):\n",
    "      tf.logging.fatal('File does not exist %s', label_lookup_path)\n",
    "\n",
    "    # Loads mapping from string UID to human-readable string\n",
    "    proto_as_ascii_lines = tf.gfile.GFile(uid_lookup_path).readlines()\n",
    "    uid_to_human = {}\n",
    "    p = re.compile(r'[n\\d]*[ \\S,]*')\n",
    "    for line in proto_as_ascii_lines:\n",
    "      parsed_items = p.findall(line)\n",
    "      uid = parsed_items[0]\n",
    "      human_string = parsed_items[2]\n",
    "      uid_to_human[uid] = human_string\n",
    "\n",
    "    # Loads mapping from string UID to integer node ID.\n",
    "    node_id_to_uid = {}\n",
    "    proto_as_ascii = tf.gfile.GFile(label_lookup_path).readlines()\n",
    "    for line in proto_as_ascii:\n",
    "      if line.startswith('  target_class:'):\n",
    "        target_class = int(line.split(': ')[1])\n",
    "      if line.startswith('  target_class_string:'):\n",
    "        target_class_string = line.split(': ')[1]\n",
    "        node_id_to_uid[target_class] = target_class_string[1:-2]\n",
    "\n",
    "    # Loads the final mapping of integer node ID to human-readable string\n",
    "    node_id_to_name = {}\n",
    "    for key, val in node_id_to_uid.items():\n",
    "      if val not in uid_to_human:\n",
    "        tf.logging.fatal('Failed to locate: %s', val)\n",
    "      name = uid_to_human[val]\n",
    "      node_id_to_name[key] = name\n",
    "\n",
    "    return node_id_to_name\n",
    "\n",
    "  def id_to_string(self, node_id):\n",
    "    if node_id not in self.node_lookup:\n",
    "      return ''\n",
    "    return self.node_lookup[node_id]\n",
    "\n",
    "def create_graph():\n",
    "  \"\"\"Creates a graph from saved GraphDef file and returns a saver.\"\"\"\n",
    "  # Creates graph from saved graph_def.pb.\n",
    "  with tf.gfile.FastGFile(os.path.join(\n",
    "      FLAGS.model_dir, 'classify_image_graph_def.pb'), 'rb') as f:\n",
    "    graph_def = tf.GraphDef()\n",
    "    graph_def.ParseFromString(f.read())\n",
    "    _ = tf.import_graph_def(graph_def, name='')\n",
    "    \n",
    "#print all op names\n",
    "def print_ops():\n",
    "    create_graph()\n",
    "    with tf.Session() as sess:\n",
    "        ops = sess.graph.get_operations()\n",
    "        for op in ops:\n",
    "            print(op.name)"
   ]
  },
  {
   "cell_type": "code",
   "execution_count": 32,
   "metadata": {
    "collapsed": false
   },
   "outputs": [],
   "source": [
    "def maybe_download_and_extract():\n",
    "  \"\"\"Download and extract model tar file.\"\"\"\n",
    "  dest_directory = FLAGS.model_dir\n",
    "  if not os.path.exists(dest_directory):\n",
    "    os.makedirs(dest_directory)\n",
    "  filename = DATA_URL.split('/')[-1]\n",
    "  filepath = os.path.join(dest_directory, filename)\n",
    "  if not os.path.exists(filepath):\n",
    "    def _progress(count, block_size, total_size):\n",
    "      sys.stdout.write('\\r>> Downloading %s %.1f%%' % (\n",
    "          filename, float(count * block_size) / float(total_size) * 100.0))\n",
    "      sys.stdout.flush()\n",
    "    filepath, _ = urllib.request.urlretrieve(DATA_URL, filepath,\n",
    "                                             reporthook=_progress)\n",
    "    print()\n",
    "    statinfo = os.stat(filepath)\n",
    "    print('Succesfully downloaded', filename, statinfo.st_size, 'bytes.')\n",
    "  tarfile.open(filepath, 'r:gz').extractall(dest_directory)\n",
    "maybe_download_and_extract()"
   ]
  },
  {
   "cell_type": "markdown",
   "metadata": {},
   "source": [
    "Functions to generate results"
   ]
  },
  {
   "cell_type": "code",
   "execution_count": 8,
   "metadata": {
    "collapsed": false
   },
   "outputs": [],
   "source": [
    "def compute_all_distances(X, metric='euclidean'):\n",
    "    \"\"\" Computes pairwise distances for points stored row-wise in X \"\"\"\n",
    "    return squareform(pdist(X, metric=metric))\n",
    "\n",
    "def representation_metric_all_samples(dist, y):\n",
    "    \"\"\" \n",
    "    Given a pairwise distance matrix dist and labels y, computes ratio of\n",
    "    pairwise average intra-class distance to average inter-class distance\n",
    "    \"\"\"\n",
    "    assert len(dist.shape) == 2 and dist.shape[0] == dist.shape[1], (\n",
    "        'Distance matrix is not square!')\n",
    "    \n",
    "    within_group_distance = 0.\n",
    "    between_group_distance = 0.\n",
    "    num_within, num_between = 0, 0\n",
    "    \n",
    "    labels = np.unique(y)\n",
    "    for label in labels:\n",
    "        label_mask = y==label\n",
    "        \n",
    "        within_group_distance += dist[label_mask].T[label_mask].sum()\n",
    "        between_group_distance += dist[label_mask].T[~label_mask].sum()\n",
    "        \n",
    "        num_within += label_mask.sum() * (label_mask.sum()-1) / 2\n",
    "        num_between += label_mask.sum() * (~label_mask).sum()\n",
    "    \n",
    "    return (between_group_distance / within_group_distance \n",
    "            * num_within / num_between \n",
    "            * 2)\n",
    "def compute_representation_metric(X,y,metric='euclidean'):\n",
    "    return representation_metric_all_samples(compute_all_distances(X, metric),y)"
   ]
  },
  {
   "cell_type": "code",
   "execution_count": 12,
   "metadata": {
    "collapsed": true
   },
   "outputs": [],
   "source": [
    "def permute_labels(y):\n",
    "    \"\"\" Permutes the numpy array y \"\"\"\n",
    "    ls = cp.copy(y)\n",
    "    np.random.shuffle(ls)\n",
    "    return ls"
   ]
  },
  {
   "cell_type": "code",
   "execution_count": 13,
   "metadata": {
    "collapsed": false
   },
   "outputs": [],
   "source": [
    "def compute_clustering_stats(data, labels, num_iter):\n",
    "    \"\"\" Computes clustering goodness and significance using permutation testing \"\"\"\n",
    "    \n",
    "    dist = compute_all_distances(data)\n",
    "    metric_for_permuted = (\n",
    "        [representation_metric_all_samples(dist, labels if i==0 else permute_labels(labels)) \n",
    "         for i in range(num_iter)])\n",
    "    \n",
    "    p = float((metric_for_permuted >= metric_for_permuted[0]).sum()) / num_iter\n",
    "    \n",
    "    stats = {\n",
    "        'true': metric_for_permuted[0],\n",
    "        'metric': metric_for_permuted[1:],\n",
    "        'p': p # p_value\n",
    "    }\n",
    "    return stats"
   ]
  },
  {
   "cell_type": "code",
   "execution_count": 14,
   "metadata": {
    "collapsed": false
   },
   "outputs": [],
   "source": [
    "def import_labels(labels_file_path):\n",
    "    with open(labels_file_path,'rU') as f:\n",
    "        return  np.asanyarray(pd.read_csv(f).Class).astype(int)"
   ]
  },
  {
   "cell_type": "code",
   "execution_count": 15,
   "metadata": {
    "collapsed": false
   },
   "outputs": [],
   "source": [
    "# function to create list of images\n",
    "def dataset_gen(samplesPath, data_dir):\n",
    "    with open(samplesPath,'rU') as f:\n",
    "        return [getImage(data_dir,im) for im in pd.read_csv(f).Id]\n",
    "    \n",
    "    \n",
    "def getImage(data_dir,im):\n",
    "    filepath = data_dir+'/'+im+'.jpg'\n",
    "    if not os.path.exists(filepath):\n",
    "        print('File does not exist %s', filepath)\n",
    "    return open(filepath, 'rb').read()"
   ]
  },
  {
   "cell_type": "code",
   "execution_count": 16,
   "metadata": {
    "collapsed": true
   },
   "outputs": [],
   "source": [
    "# function to generate features\n",
    "def generateFeatures(layer_name ,dataset):\n",
    "    \"\"\"Generate and save features as csv for a particular layer and dataset.\n",
    "    Keyword arguments:\n",
    "    layer_name -- String: the name of the tensor, ex 'pool_3:0'\n",
    "    dataset -- Generator: an iterator over the image dataset\n",
    "    \"\"\" \n",
    "    create_graph()\n",
    "    all_features = []\n",
    "    with tf.Session() as sess:\n",
    "        layer = sess.graph.get_tensor_by_name(layer_name)\n",
    "        for image_data in dataset:\n",
    "            features = sess.run(layer,{'DecodeJpeg/contents:0': image_data})\n",
    "            features = np.reshape(features,(np.product(features.shape)))\n",
    "            all_features.append(features)\n",
    "    return np.asanyarray(all_features).astype(float)\n"
   ]
  },
  {
   "cell_type": "code",
   "execution_count": 17,
   "metadata": {
    "collapsed": true
   },
   "outputs": [],
   "source": [
    "tsne_model = TSNE(n_components=2, random_state=0)\n",
    "np.set_printoptions(suppress=True)\n",
    "\n",
    "def plot_TSNE(data,labels):\n",
    "    points = tsne_model.fit_transform(data)\n",
    "    df = pd.DataFrame(data=np.column_stack([points,labels]), columns=[\"x\",\"y\",\"class\"])\n",
    "    fig = sns.lmplot(\"x\", \"y\", data=df, hue='class', fit_reg=False)\n",
    "    sns.plt.show()\n",
    "    return fig"
   ]
  },
  {
   "cell_type": "code",
   "execution_count": 18,
   "metadata": {
    "collapsed": false
   },
   "outputs": [],
   "source": [
    "def plotStats(layer_stats):\n",
    "    layer_names = layer_stats.keys() \n",
    "    df = pd.DataFrame(data = np.column_stack([layer_stats[layer][\"metric\"] for layer in layer_names]),\n",
    "                      columns = layer_names)\n",
    "    df2 = pd.DataFrame(data = np.column_stack([layer_stats[layer][\"true\"] for layer in layer_names]),\n",
    "                      columns = layer_names)\n",
    "    sns.violinplot(data = df, inner = None)\n",
    "    sns.pointplot(data = df2, join=False,color=\"#bb3f3f\")\n",
    "    sns.plt.show()\n",
    "    "
   ]
  },
  {
   "cell_type": "code",
   "execution_count": 19,
   "metadata": {
    "collapsed": false
   },
   "outputs": [],
   "source": [
    "def run(layers, datasets, labels):\n",
    "    for i, (classes, dataset) in enumerate(zip(labels, datasets)):\n",
    "        layer_results = {}\n",
    "        \n",
    "        for layer in layers:\n",
    "            print(\"Generating features for dataset %d layer %s\" % (i, layer))\n",
    "            features = generateFeatures(layer, dataset)\n",
    "            \n",
    "            print(\"t-SNE for dataset %d layer %s\" % (i, layer))\n",
    "            tsne_fig = plot_TSNE(features,classes)\n",
    "            \n",
    "            print(\"Generating stats for dataset %d layer %s\" % (i, layer))\n",
    "            stats = compute_clustering_stats(features,classes,1000)\n",
    "            layer_results[layer] = stats\n",
    "            \n",
    "            print(\"p-value for dataset %d, layer %s: %s\" % (i, layer, stats['p']))\n",
    "            del features\n",
    "        \n",
    "        print(\"Stats for dataset %d\" % i)\n",
    "        plotStats(layer_results)\n",
    "        del dataset\n",
    "        # plot the stats for the dataset, each layer will have a boxplot for the metric \n",
    "        # with permuted labels and true value\n",
    "\n"
   ]
  },
  {
   "cell_type": "markdown",
   "metadata": {},
   "source": [
    "Input Data and Run Model"
   ]
  },
  {
   "cell_type": "code",
   "execution_count": 37,
   "metadata": {
    "collapsed": false
   },
   "outputs": [],
   "source": [
    "layers = [\"pool_3:0\",\"pool_2:0\",\"pool_1:0\"]\n",
    "datasets = [dataset_gen(\"datasets/images/trainLabels.csv\",\"datasets/images\"),\n",
    "            dataset_gen(\"datasets/emotion/samples.csv\",\"datasets/emotion\")]\n",
    "labels = [import_labels(\"datasets/images/trainLabels.csv\"),\n",
    "         import_labels(\"datasets/emotion/samples.csv\")]\n",
    "#ADD MNST TO THE LISTS"
   ]
  },
  {
   "cell_type": "code",
   "execution_count": 40,
   "metadata": {
    "collapsed": false
   },
   "outputs": [
    {
     "name": "stdout",
     "output_type": "stream",
     "text": [
      "Generating features for dataset 0 layer pool_2:0\n",
      "t-SNE for dataset 0 layer pool_2:0\n"
     ]
    },
    {
     "data": {
      "image/png": "[encoded data removed]",
      "text/plain": [
       "<matplotlib.figure.Figure at 0x2a79b210>"
      ]
     },
     "metadata": {},
     "output_type": "display_data"
    },
    {
     "name": "stdout",
     "output_type": "stream",
     "text": [
      "Generating stats for dataset 0 layer pool_2:0\n",
      "p-value for dataset 0, layer pool_2:0: 0.0\n",
      "Stats for dataset 0\n"
     ]
    },
    {
     "data": {
      "image/png": "[encoded data removed]",
      "text/plain": [
       "<matplotlib.figure.Figure at 0x14e7f610>"
      ]
     },
     "metadata": {},
     "output_type": "display_data"
    }
   ],
   "source": [
    "run(layers, datasets, labels)"
   ]
  }
 ],
 "metadata": {
  "kernelspec": {
   "display_name": "Python 2",
   "language": "python",
   "name": "python2"
  },
  "language_info": {
   "codemirror_mode": {
    "name": "ipython",
    "version": 2
   },
   "file_extension": ".py",
   "mimetype": "text/x-python",
   "name": "python",
   "nbconvert_exporter": "python",
   "pygments_lexer": "ipython2",
   "version": "2.7.6"
  }
 },
 "nbformat": 4,
 "nbformat_minor": 0
}
