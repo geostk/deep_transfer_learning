{
 "cells": [
  {
   "cell_type": "code",
   "execution_count": 5,
   "metadata": {
    "collapsed": false
   },
   "outputs": [],
   "source": [
    "import glob as gl\n",
    "\n",
    "classes = {'canvas1' : 0, 'cushion1' : 1, 'linseeds1' : 2, 'sand1' : 3, 'seat2' : 4, 'stone1' : 5}\n",
    "f = open('datasets\\\\texture\\\\samples.csv', 'w')\n",
    "f.write('Id,Class\\n')\n",
    "for image in gl.glob('datasets\\\\texture\\\\*.png'):\n",
    "    name = image.split('\\\\')[-1].split('.')[0]\n",
    "    labelstr = image.split('\\\\')[-1].split('-')[0]\n",
    "    label = classes[labelstr]\n",
    "    f.write('%s,%d\\n' % (name, label))\n",
    "f.close()"
   ]
  },
  {
   "cell_type": "code",
   "execution_count": null,
   "metadata": {
    "collapsed": true
   },
   "outputs": [],
   "source": []
  }
 ],
 "metadata": {
  "kernelspec": {
   "display_name": "Python 3",
   "language": "python",
   "name": "python3"
  },
  "language_info": {
   "codemirror_mode": {
    "name": "ipython",
    "version": 3
   },
   "file_extension": ".py",
   "mimetype": "text/x-python",
   "name": "python",
   "nbconvert_exporter": "python",
   "pygments_lexer": "ipython3",
   "version": "3.5.1"
  }
 },
 "nbformat": 4,
 "nbformat_minor": 0
}
