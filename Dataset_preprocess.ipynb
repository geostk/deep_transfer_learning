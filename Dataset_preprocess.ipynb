{
 "cells": [
  {
   "cell_type": "code",
   "execution_count": 2,
   "metadata": {
    "collapsed": false
   },
   "outputs": [],
   "source": [
    "# texture dataset\n",
    "import glob as gl\n",
    "classes = {'canvas1' : 0, 'cushion1' : 1, 'linseeds1' : 2, 'sand1' : 3, 'seat2' : 4, 'stone1' : 5}\n",
    "f = open('datasets\\\\texture\\\\samples.csv', 'w')\n",
    "f.write('Id,Class\\n')\n",
    "for image in gl.glob('datasets\\\\texture\\\\*.jpg'):\n",
    "    name = image.split('\\\\')[-1].split('.')[0]\n",
    "    labelstr = image.split('\\\\')[-1].split('-')[0]\n",
    "    label = classes[labelstr]\n",
    "    f.write('%s,%d\\n' % (name, label))\n",
    "f.close()"
   ]
  },
  {
   "cell_type": "code",
   "execution_count": 5,
   "metadata": {
    "collapsed": false
   },
   "outputs": [],
   "source": [
    "# mnist dataset\n",
    "import glob as gl\n",
    "f = open('datasets\\\\mnist\\\\samples.csv', 'w')\n",
    "f.write('Id,Class\\n')\n",
    "for image in gl.glob('datasets\\\\mnist\\\\*.jpg'):\n",
    "    name = image.split('\\\\')[-1].split('.')[0]\n",
    "    label = int(image.split('\\\\')[-1].split('_')[1])\n",
    "    f.write('%s,%d\\n' % (name, label))\n",
    "f.close()"
   ]
  },
  {
   "cell_type": "code",
   "execution_count": null,
   "metadata": {
    "collapsed": true
   },
   "outputs": [],
   "source": [
    "# emotion dataset\n",
    "import glob as gl\n",
    "classes = {'anger' : 0, 'disgust' : 1, 'fear' : 2, 'sad' : 3, 'amusement' : 4, 'awe' : 5, 'contentment' : 6, 'excitement' : 7}\n",
    "f = open('datasets/emotion/samples.csv', 'w')\n",
    "f.write('Id,Class\\n')\n",
    "for image in gl.glob('datasets/emotion/*.jpg'):\n",
    "    name = image.split('/')[-1].split('.')[0]\n",
    "    labelstr = image.split('/')[-1].split('_')[0]\n",
    "    label = classes[labelstr]\n",
    "    f.write('%s,%d\\n' % (name, label))\n",
    "f.close()"
   ]
  }
 ],
 "metadata": {
  "kernelspec": {
   "display_name": "Python 3",
   "language": "python",
   "name": "python3"
  },
  "language_info": {
   "codemirror_mode": {
    "name": "ipython",
    "version": 3
   },
   "file_extension": ".py",
   "mimetype": "text/x-python",
   "name": "python",
   "nbconvert_exporter": "python",
   "pygments_lexer": "ipython3",
   "version": "3.5.1"
  }
 },
 "nbformat": 4,
 "nbformat_minor": 0
}
